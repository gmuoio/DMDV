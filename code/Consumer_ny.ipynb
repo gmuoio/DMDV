{
 "cells": [
  {
   "cell_type": "code",
   "execution_count": 6,
   "metadata": {},
   "outputs": [],
   "source": [
    "from kafka import KafkaConsumer\n",
    "import json\n",
    "import pandas as pd"
   ]
  },
  {
   "cell_type": "code",
   "execution_count": 7,
   "metadata": {},
   "outputs": [],
   "source": [
    "# Connecting to Mongo\n",
    "from pymongo import MongoClient\n",
    "client = MongoClient('mongo', 27017, username='admin', password='DataMan2019!')"
   ]
  },
  {
   "cell_type": "code",
   "execution_count": null,
   "metadata": {},
   "outputs": [],
   "source": [
    "consumer = KafkaConsumer(\n",
    "  bootstrap_servers=[\"kafka:9092\"],\n",
    "  auto_offset_reset=\"latest\",\n",
    "  value_deserializer=lambda v: json.loads(v.decode(\"utf-8\")))\n",
    "\n",
    "# Subscribe to the topic\n",
    "consumer.subscribe([\"citibike\"])\n",
    "\n",
    "# Stream from the consumer object\n",
    "for msg in consumer:\n",
    "    \n",
    "    # Setting date format\n",
    "    msg.value[\"ST\"]=pd.to_datetime(msg.value.get(\"ST\"))\n",
    "    msg.value[\"ET\"]=pd.to_datetime(msg.value.get(\"ET\"))\n",
    "    \n",
    "    # Store\n",
    "    client.Citibike.NewYork.insert_one(msg.value)"
   ]
  }
 ],
 "metadata": {
  "kernelspec": {
   "display_name": "Python 3",
   "language": "python",
   "name": "python3"
  },
  "language_info": {
   "codemirror_mode": {
    "name": "ipython",
    "version": 3
   },
   "file_extension": ".py",
   "mimetype": "text/x-python",
   "name": "python",
   "nbconvert_exporter": "python",
   "pygments_lexer": "ipython3",
   "version": "3.7.3"
  }
 },
 "nbformat": 4,
 "nbformat_minor": 4
}

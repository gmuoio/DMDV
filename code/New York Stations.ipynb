{
 "cells": [
  {
   "cell_type": "code",
   "execution_count": 1,
   "metadata": {},
   "outputs": [],
   "source": [
    "import json\n",
    "import numpy as np\n",
    "import pandas as pd\n",
    "import requests"
   ]
  },
  {
   "cell_type": "code",
   "execution_count": 20,
   "metadata": {},
   "outputs": [],
   "source": [
    "stations = requests.get(\"https://gbfs.citibikenyc.com/gbfs/en/station_information.json\")\n",
    "#stations_realtime_status = requests.get(\"https://gbfs.citibikenyc.com/gbfs/en/station_status.json\")"
   ]
  },
  {
   "cell_type": "code",
   "execution_count": 21,
   "metadata": {},
   "outputs": [
    {
     "data": {
      "text/plain": [
       "{'has_kiosk': True,\n",
       " 'station_id': '72',\n",
       " 'legacy_id': '72',\n",
       " 'name': 'W 52 St & 11 Ave',\n",
       " 'region_id': '71',\n",
       " 'electric_bike_surcharge_waiver': False,\n",
       " 'lat': 40.76727216,\n",
       " 'eightd_station_services': [],\n",
       " 'rental_uris': {'android': 'https://bkn.lft.to/lastmile_qr_scan',\n",
       "  'ios': 'https://bkn.lft.to/lastmile_qr_scan'},\n",
       " 'short_name': '6926.01',\n",
       " 'rental_methods': ['KEY', 'CREDITCARD'],\n",
       " 'capacity': 55,\n",
       " 'station_type': 'classic',\n",
       " 'eightd_has_key_dispenser': False,\n",
       " 'lon': -73.99392888,\n",
       " 'external_id': '66db237e-0aca-11e7-82f6-3863bb44ef7c'}"
      ]
     },
     "execution_count": 21,
     "metadata": {},
     "output_type": "execute_result"
    }
   ],
   "source": [
    "l = stations.json().get('data').get('stations')\n",
    "l[0]"
   ]
  },
  {
   "cell_type": "code",
   "execution_count": 25,
   "metadata": {},
   "outputs": [],
   "source": [
    "l_clean = []\n",
    "for stat in l:\n",
    "    station = [stat.get('lat'), stat.get('lon'), stat.get('name'), stat.get('station_id'),stat.get('capacity')]\n",
    "    l_clean.append(station)\n",
    "    \n",
    "#print(l_clean)"
   ]
  },
  {
   "cell_type": "code",
   "execution_count": 27,
   "metadata": {},
   "outputs": [
    {
     "data": {
      "text/html": [
       "<div>\n",
       "<style scoped>\n",
       "    .dataframe tbody tr th:only-of-type {\n",
       "        vertical-align: middle;\n",
       "    }\n",
       "\n",
       "    .dataframe tbody tr th {\n",
       "        vertical-align: top;\n",
       "    }\n",
       "\n",
       "    .dataframe thead th {\n",
       "        text-align: right;\n",
       "    }\n",
       "</style>\n",
       "<table border=\"1\" class=\"dataframe\">\n",
       "  <thead>\n",
       "    <tr style=\"text-align: right;\">\n",
       "      <th></th>\n",
       "      <th>latitude</th>\n",
       "      <th>Longitude</th>\n",
       "      <th>name</th>\n",
       "      <th>id</th>\n",
       "      <th>capacity</th>\n",
       "    </tr>\n",
       "  </thead>\n",
       "  <tbody>\n",
       "    <tr>\n",
       "      <th>0</th>\n",
       "      <td>40.767272</td>\n",
       "      <td>-73.993929</td>\n",
       "      <td>W 52 St &amp; 11 Ave</td>\n",
       "      <td>72</td>\n",
       "      <td>55</td>\n",
       "    </tr>\n",
       "    <tr>\n",
       "      <th>1</th>\n",
       "      <td>40.719116</td>\n",
       "      <td>-74.006667</td>\n",
       "      <td>Franklin St &amp; W Broadway</td>\n",
       "      <td>79</td>\n",
       "      <td>33</td>\n",
       "    </tr>\n",
       "    <tr>\n",
       "      <th>2</th>\n",
       "      <td>40.711174</td>\n",
       "      <td>-74.000165</td>\n",
       "      <td>St James Pl &amp; Pearl St</td>\n",
       "      <td>82</td>\n",
       "      <td>27</td>\n",
       "    </tr>\n",
       "    <tr>\n",
       "      <th>3</th>\n",
       "      <td>40.683826</td>\n",
       "      <td>-73.976323</td>\n",
       "      <td>Atlantic Ave &amp; Fort Greene Pl</td>\n",
       "      <td>83</td>\n",
       "      <td>62</td>\n",
       "    </tr>\n",
       "    <tr>\n",
       "      <th>4</th>\n",
       "      <td>40.741776</td>\n",
       "      <td>-74.001497</td>\n",
       "      <td>W 17 St &amp; 8 Ave</td>\n",
       "      <td>116</td>\n",
       "      <td>50</td>\n",
       "    </tr>\n",
       "  </tbody>\n",
       "</table>\n",
       "</div>"
      ],
      "text/plain": [
       "    latitude  Longitude                           name   id  capacity\n",
       "0  40.767272 -73.993929               W 52 St & 11 Ave   72        55\n",
       "1  40.719116 -74.006667       Franklin St & W Broadway   79        33\n",
       "2  40.711174 -74.000165         St James Pl & Pearl St   82        27\n",
       "3  40.683826 -73.976323  Atlantic Ave & Fort Greene Pl   83        62\n",
       "4  40.741776 -74.001497                W 17 St & 8 Ave  116        50"
      ]
     },
     "execution_count": 27,
     "metadata": {},
     "output_type": "execute_result"
    }
   ],
   "source": [
    "df_stations = pd.DataFrame(l_clean, columns = ['latitude', 'Longitude','name','id','capacity']) \n",
    "df_stations.head()"
   ]
  },
  {
   "cell_type": "code",
   "execution_count": 29,
   "metadata": {},
   "outputs": [],
   "source": [
    "# Saving data\n",
    "df_stations.to_csv('Stations.csv', index = False)"
   ]
  }
 ],
 "metadata": {
  "kernelspec": {
   "display_name": "Python 3",
   "language": "python",
   "name": "python3"
  },
  "language_info": {
   "codemirror_mode": {
    "name": "ipython",
    "version": 3
   },
   "file_extension": ".py",
   "mimetype": "text/x-python",
   "name": "python",
   "nbconvert_exporter": "python",
   "pygments_lexer": "ipython3",
   "version": "3.7.3"
  }
 },
 "nbformat": 4,
 "nbformat_minor": 2
}

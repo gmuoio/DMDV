{
 "cells": [
  {
   "cell_type": "code",
   "execution_count": null,
   "metadata": {
    "id": "-fzfEiBdLtVL"
   },
   "outputs": [],
   "source": [
    "# Import libraries\n",
    "import numpy as np\n",
    "import pandas as pd\n",
    "import requests\n",
    "import zipfile\n",
    "import io\n",
    "from datetime import datetime\n",
    "from kafka import KafkaProducer\n",
    "import time\n",
    "import json\n",
    "import random"
   ]
  },
  {
   "cell_type": "code",
   "execution_count": null,
   "metadata": {
    "id": "iNWnTfYuLtVU"
   },
   "outputs": [],
   "source": [
    "# Data from december 2020\n",
    "r = requests.get('https://s3.amazonaws.com/tripdata/202012-citibike-tripdata.csv.zip')\n",
    "  \n",
    "with zipfile.ZipFile(io.BytesIO(r.content)) as ar:\n",
    "    trip_data = pd.read_csv(ar.open('202012-citibike-tripdata.csv'))"
   ]
  },
  {
   "cell_type": "code",
   "execution_count": null,
   "metadata": {
    "id": "0sxut2c_LtVV"
   },
   "outputs": [],
   "source": [
    "# Setting up the producer\n",
    "producer = KafkaProducer(\n",
    "  bootstrap_servers=[\"kafka:9092\"],\n",
    "  value_serializer=lambda v: json.dumps(v).encode(\"utf-8\"))"
   ]
  },
  {
   "cell_type": "code",
   "execution_count": null,
   "metadata": {
    "id": "Ig9z09kmLtVV"
   },
   "outputs": [],
   "source": [
    "# Preprocessing \n",
    "trip_data.rename(columns = {'start station id': 'S', \n",
    "                            'end station id': 'E',\n",
    "                            'birth year': 'BY',\n",
    "                            'bikeid':'B',\n",
    "                            'usertype':'U',\n",
    "                            'gender':'G',\n",
    "                            'tripduration':'D',\n",
    "                            'starttime':'ST',\n",
    "                            'stoptime':'ET'}, inplace = True)\n",
    "\n",
    "columns = ['S','E','ST','ET','B','U','BY','G','D']\n",
    "data_ready = trip_data[columns]"
   ]
  },
  {
   "cell_type": "code",
   "execution_count": null,
   "metadata": {
    "id": "D-6o86UuLtVW",
    "outputId": "736a6e2d-550c-43b7-e12d-717c776f00cf"
   },
   "outputs": [],
   "source": [
    "data_ready.head()"
   ]
  },
  {
   "cell_type": "code",
   "execution_count": null,
   "metadata": {
    "id": "ogTA36aqLtVY"
   },
   "outputs": [],
   "source": [
    "# Data velocity simulation\n",
    "n = len(data_ready)\n",
    "for i in range(0,n):\n",
    "\n",
    "    trip = data_ready.iloc[[i]].to_dict(orient='records')\n",
    "    \n",
    "    producer.send(topic=\"citibike\", value = trip[0])\n",
    "    time.sleep(random.randint(0,5))"
   ]
  }
 ],
 "metadata": {
  "colab": {
   "name": "Producer_ny (1).ipynb",
   "provenance": []
  },
  "kernelspec": {
   "display_name": "Python 3",
   "language": "python",
   "name": "python3"
  },
  "language_info": {
   "codemirror_mode": {
    "name": "ipython",
    "version": 3
   },
   "file_extension": ".py",
   "mimetype": "text/x-python",
   "name": "python",
   "nbconvert_exporter": "python",
   "pygments_lexer": "ipython3",
   "version": "3.9.1"
  }
 },
 "nbformat": 4,
 "nbformat_minor": 1
}

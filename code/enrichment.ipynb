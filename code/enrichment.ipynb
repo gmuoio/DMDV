{
 "cells": [
  {
   "cell_type": "code",
   "execution_count": null,
   "metadata": {},
   "outputs": [],
   "source": [
    "# import libraries\n",
    "import numpy as np\n",
    "import pandas as pd\n",
    "import requests\n",
    "import zipfile\n",
    "import io\n",
    "from datetime import datetime\n",
    "import json\n",
    "import time\n",
    "from pprint import pprint"
   ]
  },
  {
   "cell_type": "code",
   "execution_count": null,
   "metadata": {},
   "outputs": [],
   "source": [
    "# import dataframes (set working directory)\n",
    "df_day=pd.read_csv('data_per_day.csv',parse_dates=['date'])\n",
    "df_weather=pd.read_csv('weather.csv',parse_dates=['time'],dayfirst=True)\n",
    "df_covid=pd.read_csv('covid_nyc.csv',parse_dates=['date_of_interest'])"
   ]
  },
  {
   "cell_type": "code",
   "execution_count": null,
   "metadata": {
    "scrolled": true
   },
   "outputs": [],
   "source": [
    "df_day.head()"
   ]
  },
  {
   "cell_type": "code",
   "execution_count": null,
   "metadata": {},
   "outputs": [],
   "source": [
    "df_weather.head()"
   ]
  },
  {
   "cell_type": "code",
   "execution_count": null,
   "metadata": {},
   "outputs": [],
   "source": [
    "df_covid.head()"
   ]
  },
  {
   "cell_type": "code",
   "execution_count": null,
   "metadata": {
    "scrolled": true
   },
   "outputs": [],
   "source": [
    "# wind chill calculation\n",
    "df_weather['WC']=13.12 + 0.6215*df_weather['tavg'] - 11.37*(df_weather['wspd']**0.16)+0.3965*df_weather['tavg']*(df_weather['wspd']**0.16)"
   ]
  },
  {
   "cell_type": "code",
   "execution_count": null,
   "metadata": {},
   "outputs": [],
   "source": [
    "# enrichment\n",
    "df_1=pd.merge(df_day,df_weather,left_on='date',right_on='time')\n",
    "df_2=pd.merge(df_1,df_covid,left_on='date',right_on='date_of_interest',how='outer')\n",
    "df_2.drop(columns='time',inplace=True)\n",
    "df_2.drop(columns='date_of_interest',inplace=True)\n",
    "df_final=df_2[df_2['date'].notna()]\n",
    "df_final.to_csv('data_per_day_enriched.csv',index=False)"
   ]
  },
  {
   "cell_type": "code",
   "execution_count": null,
   "metadata": {},
   "outputs": [],
   "source": [
    "# create auxiliary dataframes\n",
    "aux=df_final.copy()\n",
    "\n",
    "only20=aux[aux['date'].dt.year==2020]\n",
    "\n",
    "only19=aux[aux['date'].dt.year==2019]\n",
    "only19=only19.iloc[:,0:16]\n",
    "only19['date'].dt.year\n",
    "\n",
    "only20['daymonth']=only20['date'].dt.strftime('%d-%m')\n",
    "only19['daymonth']=only19['date'].dt.strftime('%d-%m')"
   ]
  },
  {
   "cell_type": "code",
   "execution_count": null,
   "metadata": {},
   "outputs": [],
   "source": [
    "# creating dataframe with 2020 and 2019 data per day\n",
    "df_day=pd.merge(only20,only19,on='daymonth',how='outer',suffixes=['_20','_19'])\n",
    "df_day.to_csv('data_per_day_combined.csv')"
   ]
  },
  {
   "cell_type": "code",
   "execution_count": null,
   "metadata": {},
   "outputs": [],
   "source": [
    "# same thing but with syncronized week\n",
    "aux['week']=aux['date'].dt.strftime('%U')\n",
    "aux['dayOfWeek']=aux['date'].dt.strftime('%A')\n",
    "only20=aux[aux['date'].dt.year==2020]\n",
    "only19=aux[aux['date'].dt.year==2019]\n",
    "only19=only19.iloc[:,[0,1,2,3,4,5,6,7,8,9,10,11,12,13,14,15,-1,-2]]"
   ]
  },
  {
   "cell_type": "code",
   "execution_count": null,
   "metadata": {},
   "outputs": [],
   "source": [
    "df_sync=pd.merge(only20,only19,on=['week','dayOfWeek'],suffixes=['_20','_19'])\n",
    "df_sync.to_csv('data_per_day_sync.csv',index=False)"
   ]
  },
  {
   "cell_type": "code",
   "execution_count": null,
   "metadata": {},
   "outputs": [],
   "source": [
    "# Create dataframe for tableau\n",
    "df=pd.read_csv('september_start_end.csv',index_col=0,parse_dates=['my_dates'])\n",
    "df=df[['station_id','name','latitude','longitude','year','day_of_week','Hour','trips_start','trips_end']]\n",
    "df['traffic']=df['trips_start']+df['trips_end']\n",
    "\n",
    "df_2019=df[df['year']==2019].drop('year',axis=1)\n",
    "data_2019=df_2019.groupby(['station_id','name','latitude','longitude','day_of_week','Hour']).mean().reset_index()\n",
    "\n",
    "df_2020=df[df['year']==2020].drop('year',axis=1)\n",
    "data_2020=df_2020.groupby(['station_id','name','latitude','longitude','day_of_week','Hour']).mean().reset_index()\n",
    "\n",
    "avg_traffic=pd.merge(data_2020,data_2019,on=['station_id','name','latitude','longitude','day_of_week','Hour'],\n",
    "               suffixes=['_2020','_2019'],how='outer')\n",
    "\n",
    "avg_traffic.to_csv('september_avgtraffic.csv',index=False)"
   ]
  },
  {
   "cell_type": "code",
   "execution_count": null,
   "metadata": {},
   "outputs": [],
   "source": [
    "#join between september start_end - a\n",
    "SE = pd.read_csv(\"september_start_end.csv\")\n",
    "AVG = pd.read_csv(\"september_avgtraffic.csv\")\n",
    "per_map=pd.merge( SE,AVG, on=['station_id','name','latitude','longitude','day_of_week','Hour'])\n",
    "per_map.to_csv(\"per_map.csv\")"
   ]
  }
 ],
 "metadata": {
  "kernelspec": {
   "display_name": "Python 3",
   "language": "python",
   "name": "python3"
  },
  "language_info": {
   "codemirror_mode": {
    "name": "ipython",
    "version": 3
   },
   "file_extension": ".py",
   "mimetype": "text/x-python",
   "name": "python",
   "nbconvert_exporter": "python",
   "pygments_lexer": "ipython3",
   "version": "3.9.1"
  }
 },
 "nbformat": 4,
 "nbformat_minor": 4
}

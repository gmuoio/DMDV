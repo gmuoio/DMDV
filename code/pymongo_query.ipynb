{
 "cells": [
  {
   "cell_type": "code",
   "execution_count": null,
   "metadata": {},
   "outputs": [],
   "source": [
    "# Import libraries\n",
    "import numpy as np\n",
    "import pandas as pd\n",
    "import requests\n",
    "import zipfile\n",
    "import io\n",
    "from datetime import datetime\n",
    "import json\n",
    "import time\n",
    "from pprint import pprint\n",
    "from pymongo import MongoClient"
   ]
  },
  {
   "cell_type": "code",
   "execution_count": null,
   "metadata": {},
   "outputs": [],
   "source": [
    "# Connecting to Mongo\n",
    "client = MongoClient('localhost', 27017) #27017 local, 27027 sharding\n",
    "NY = client.Citibike.get_collection(\"NewYork\")"
   ]
  },
  {
   "cell_type": "code",
   "execution_count": null,
   "metadata": {
    "scrolled": true
   },
   "outputs": [],
   "source": [
    "# Document example\n",
    "NY.find_one()"
   ]
  },
  {
   "cell_type": "code",
   "execution_count": null,
   "metadata": {},
   "outputs": [],
   "source": [
    "# n total documents\n",
    "query1 = NY.estimated_document_count()\n",
    "pprint(query1)"
   ]
  },
  {
   "cell_type": "code",
   "execution_count": null,
   "metadata": {},
   "outputs": [],
   "source": [
    "%%time\n",
    "# n trips in 2019\n",
    "query2 = NY.aggregate([\n",
    "    {\"$match\" : { \"ST\": { \"$lt\": datetime(2020, 1, 1) } } },\n",
    "    {\"$count\":'trips_2019'}\n",
    "])\n",
    "for result in query2:\n",
    "    pprint(result)"
   ]
  },
  {
   "cell_type": "code",
   "execution_count": null,
   "metadata": {},
   "outputs": [],
   "source": [
    "%%time\n",
    "# n trips in 2020\n",
    "query3 = NY.aggregate([\n",
    "    {\"$match\" : { \"ST\": { \"$gte\": datetime(2020, 1, 1) } } },\n",
    "    {\"$count\":'trips_2020'}\n",
    "])\n",
    "for result in query3:\n",
    "    pprint(result)"
   ]
  },
  {
   "cell_type": "code",
   "execution_count": null,
   "metadata": {},
   "outputs": [],
   "source": [
    "%%time\n",
    "# n trips by gender (0=unknown; 1=males; 2=females)\n",
    "query4 = NY.aggregate([\n",
    "    {'$group': {'_id': {'year': { '$year': { 'date': '$ST' } }, \n",
    "                        'gender':'$G'},\n",
    "                'trips': { \"$sum\": 1}}}\n",
    "])\n",
    "for result in query4:\n",
    "    pprint(result)"
   ]
  },
  {
   "cell_type": "code",
   "execution_count": null,
   "metadata": {},
   "outputs": [],
   "source": [
    "%%time\n",
    "# n trips per user type\n",
    "# (Customer = 24-hour pass or 3-day pass user; Subscriber = Annual Member)\n",
    "query5 = NY.aggregate([\n",
    "    {'$group': {'_id': {'year': { '$year': { 'date': '$ST' } }, \n",
    "                        'userType':'$U'},\n",
    "                'trips': { \"$sum\": 1}}}\n",
    "])\n",
    "for result in query5:\n",
    "    pprint(result)"
   ]
  },
  {
   "cell_type": "code",
   "execution_count": null,
   "metadata": {},
   "outputs": [],
   "source": [
    "%%time\n",
    "# n trips per month\n",
    "array_month = []\n",
    "query6 = NY.aggregate([\n",
    "    {\"$group\" : {\"_id\" : { \"$dateToString\":{\"format\":\"%Y-%m\", \"date\":\"$ST\"}},\n",
    "                     'trips': {\"$sum\": 1}}}\n",
    "])\n",
    "for result in query6:\n",
    "    array_month.append(result)"
   ]
  },
  {
   "cell_type": "code",
   "execution_count": null,
   "metadata": {},
   "outputs": [],
   "source": [
    "# Creating and cleaning a dataframe\n",
    "df_month = pd.DataFrame(array_month)\n",
    "df_month.sort_values(by='_id',inplace=True)\n",
    "df_month.rename(columns={'_id':'year_month'},inplace=True)\n",
    "df_month.reset_index(drop=True,inplace=True)\n",
    "df_month.head()"
   ]
  },
  {
   "cell_type": "code",
   "execution_count": null,
   "metadata": {},
   "outputs": [],
   "source": [
    "%%time\n",
    "# data per day\n",
    "array_day = []\n",
    "query7 = NY.aggregate([\n",
    "                    {\"$group\" : {\"_id\" : { \"$dateToString\":{\"format\":\"%Y-%m-%d\", \"date\":\"$ST\"}},\n",
    "                                    'trips': { \"$sum\": 1},\n",
    "                                    'avg_duration': {\"$avg\" : \"$D\"},\n",
    "                                    'avg_birthYear':{  \"$avg\" : \"$BY\" },\n",
    "                                    'males': { '$sum': {'$cond': [{ '$eq': [\"$G\", 1] }, 1, 0 ] }},\n",
    "                                    'females': { '$sum': {'$cond': [{ '$eq': [\"$G\", 2] }, 1, 0 ] }},\n",
    "                                    'customers': { '$sum': {'$cond': [{ '$eq': [\"$U\", 'Customer'] }, 1, 0 ]  }},\n",
    "                                    'subscribers': {'$sum': { '$cond': [{ '$eq': [\"$U\", 'Subscriber'] }, 1, 0 ]}},\n",
    "                                    'leisure': {'$sum': { '$cond': [{ '$eq': [\"$S\", '$E'] }, 1, 0 ]}}}}\n",
    "])\n",
    "for result in query7:\n",
    "    array_day.append(result)"
   ]
  },
  {
   "cell_type": "code",
   "execution_count": null,
   "metadata": {},
   "outputs": [],
   "source": [
    "# Creating, cleaning and saving a dataframe\n",
    "df_day = pd.DataFrame(array_day)\n",
    "df_day['_id'] = pd.to_datetime(df_day['_id'])\n",
    "df_day.sort_values(by='_id',inplace=True)\n",
    "df_day.reset_index(drop=True,inplace=True)\n",
    "df_day.rename(columns={'_id':'date'},inplace=True)\n",
    "df_day.to_csv('data_per_day.csv',index=False)"
   ]
  },
  {
   "cell_type": "code",
   "execution_count": null,
   "metadata": {},
   "outputs": [],
   "source": [
    "%%time\n",
    "# n trips per week\n",
    "array_week = []\n",
    "query8 = NY.aggregate([\n",
    "    { \"$group\" : {\"_id\" : {'year': { '$year': { 'date': '$ST' } },\n",
    "                        'week': { '$week': { 'date': '$ST' } } },\n",
    "                'trips': { \"$sum\": 1 } } }\n",
    "                             ])\n",
    "for result in query8:\n",
    "    year=result.get('_id').get('year')\n",
    "    week=result.get('_id').get('week')\n",
    "    trips=result.get('trips')\n",
    "    array_week.append([year,week,trips])   "
   ]
  },
  {
   "cell_type": "code",
   "execution_count": null,
   "metadata": {},
   "outputs": [],
   "source": [
    "# Creating a dataframe\n",
    "# $week returns the week of the year for a date as a number between 0 and 53.\n",
    "# Weeks begin on Sundays, and week 1 begins with the first Sunday of the year. \n",
    "# Days preceding the first Sunday of the year are in week 0. \n",
    "df_week = pd.DataFrame(array_week,columns=['year','week','trips'])\n",
    "df_week.sort_values(by=['week'],inplace=True)\n",
    "df_week.reset_index(drop=True,inplace=True)\n",
    "df_week.head()"
   ]
  },
  {
   "cell_type": "code",
   "execution_count": null,
   "metadata": {
    "scrolled": true
   },
   "outputs": [],
   "source": [
    "%%time\n",
    "# n trips in a specific week (38 in this case)\n",
    "query9 = NY.aggregate([\n",
    "    {'$match': { '$expr' : {'$eq': [{'$week':'$ST'}, 38] }}},\n",
    "    {\"$group\" : { \"_id\" : {'year': { '$year': { 'date': '$ST' } } }, 'trips': { \"$sum\": 1 }}}                                \n",
    "])\n",
    "for result in query9:\n",
    "    pprint(result)"
   ]
  },
  {
   "cell_type": "code",
   "execution_count": null,
   "metadata": {},
   "outputs": [],
   "source": [
    "%%time\n",
    "# week 38: n trips per station/hour (know in advance date intervals)\n",
    "array_week38 = []\n",
    "query10 = NY.aggregate([ \n",
    "                        {\"$match\" : { '$or': [ { \"ST\": { \"$gte\": datetime(2019, 9, 16), \"$lt\": datetime(2019, 9, 23) }},\n",
    "                                            { \"ST\": { \"$gte\": datetime(2020, 9, 14), \"$lt\": datetime(2020, 9, 21) }}]}},\n",
    "                        {\"$group\" : { \"_id\" : { 'station':\"$S\",'datetime':\n",
    "                                               {\"$dateToString\":{\"format\":\"%Y-%m-%dT%H\", \"date\":\"$ST\"}} },\n",
    "                                    'trips': { \"$sum\": 1 },\n",
    "                                    'avg_duration': { \"$avg\" : \"$D\"},\n",
    "                                    'avg_birthYear':{  \"$avg\" : \"$BY\" },\n",
    "                                    'males': { '$sum': {'$cond': [{ '$eq': [\"$G\", 1] }, 1, 0 ] }},\n",
    "                                    'females': { '$sum': {'$cond': [{ '$eq': [\"$G\", 2] }, 1, 0 ] }},\n",
    "                                    'customers': { '$sum': {'$cond': [{ '$eq': [\"$U\", 'Customer'] }, 1, 0 ]  }},\n",
    "                                    'subscribers': {'$sum': { '$cond': [{ '$eq': [\"$U\", 'Subscriber'] }, 1, 0 ]}}}}\n",
    "],allowDiskUse=True)\n",
    "for res in query10:\n",
    "    key=res.pop('_id')\n",
    "    array_week38.append(list(key.values())+list(res.values()))"
   ]
  },
  {
   "cell_type": "code",
   "execution_count": null,
   "metadata": {},
   "outputs": [],
   "source": [
    "# Creaing and saving a dataframe\n",
    "df_week38 = pd.DataFrame(array_week38, columns=['station_id','dateTime','trips','avg_duration','avg_birthYear','males', 'females','customers','subscribers'])\n",
    "df_week38['dateTime']=pd.to_datetime(df_week38['dateTime'])\n",
    "df_week38.sort_values(by=['station_id','dateTime'],inplace=True)\n",
    "df_week38.reset_index(drop=True,inplace=True)\n",
    "df_week38.to_csv('week38.csv',index=False)"
   ]
  },
  {
   "cell_type": "code",
   "execution_count": null,
   "metadata": {},
   "outputs": [],
   "source": [
    "%%time\n",
    "# n stations in 2019\n",
    "query11=NY.find({ \"ST\": { \"$lt\": datetime(2020, 1, 1) } }).distinct('S')\n",
    "len(query11)"
   ]
  },
  {
   "cell_type": "code",
   "execution_count": null,
   "metadata": {},
   "outputs": [],
   "source": [
    "%%time\n",
    "# n stations in 2020\n",
    "query12=NY.find({ \"ST\": { \"$gte\": datetime(2020, 1, 1) } }).distinct('S')\n",
    "len(query12)"
   ]
  },
  {
   "cell_type": "code",
   "execution_count": null,
   "metadata": {},
   "outputs": [],
   "source": [
    "%%time\n",
    "# trips data in september, considering start stations\n",
    "array_sept_start = []\n",
    "query13 = NY.aggregate([ \n",
    "                        {\"$match\" : { '$or': [ { \"ST\": { \"$gte\": datetime(2019, 9, 1), \"$lt\": datetime(2019, 10, 1) }},\n",
    "                                            { \"ST\": { \"$gte\": datetime(2020, 9, 1), \"$lt\": datetime(2020, 10, 1) }}]}},\n",
    "                        {\"$group\" : { \"_id\" : { 'station':\"$S\",\n",
    "                                               'datetime': {\"$dateToString\":{\"format\":\"%Y-%m-%dT%H\", \"date\":\"$ST\"}} },\n",
    "                                    'trips': { \"$sum\": 1 }}}\n",
    "],allowDiskUse=True)\n",
    "for res in query13:\n",
    "    station=res.get('_id').get('station')\n",
    "    date=res.get('_id').get('datetime')\n",
    "    trips=res.get('trips')\n",
    "    array_sept_start.append([station,date,trips])"
   ]
  },
  {
   "cell_type": "code",
   "execution_count": null,
   "metadata": {
    "scrolled": true
   },
   "outputs": [],
   "source": [
    "# reading stations file (set right working directory)\n",
    "stations=pd.read_csv('stations.csv')\n",
    "stations.head()"
   ]
  },
  {
   "cell_type": "code",
   "execution_count": null,
   "metadata": {},
   "outputs": [],
   "source": [
    "# Cleaning and pre-processing\n",
    "df_sept_start = pd.DataFrame(array_sept_start, columns=['station_id','dateTime','trips'])\n",
    "df_sept_start['my_dates'] = pd.to_datetime(df_sept_start['dateTime'],format=\"%Y-%m-%dT%H\")\n",
    "df_sept_start['year'] = df_sept_start['my_dates'].dt.year\n",
    "df_sept_start['day_of_week'] = df_sept_start['my_dates'].dt.day_name()\n",
    "df_sept_start['Hour'] = df_sept_start['my_dates'].dt.hour\n",
    "df_sept_start['type'] = 'start'\n",
    "df_sept_start.head()"
   ]
  },
  {
   "cell_type": "code",
   "execution_count": null,
   "metadata": {},
   "outputs": [],
   "source": [
    "%%time\n",
    "# trips data in september, considering end stations\n",
    "array_sept_end = []\n",
    "query14 = NY.aggregate([ \n",
    "                        {\"$match\" : { '$or': [ { \"ST\": { \"$gte\": datetime(2019, 9, 1), \"$lt\": datetime(2019, 10, 1) }},\n",
    "                                            { \"ST\": { \"$gte\": datetime(2020, 9, 1), \"$lt\": datetime(2020, 10, 1) }}]}},\n",
    "                        {\"$group\" : { \"_id\" : { 'station':\"$E\",\n",
    "                                               'datetime': {\"$dateToString\":{\"format\":\"%Y-%m-%dT%H\", \"date\":\"$ST\"}} },\n",
    "                                    'trips': { \"$sum\": 1 }}}\n",
    "],allowDiskUse=True)\n",
    "for res in query14:\n",
    "    station=res.get('_id').get('station')\n",
    "    date=res.get('_id').get('datetime')\n",
    "    trips=res.get('trips')\n",
    "    array_sept_end.append([station,date,trips])"
   ]
  },
  {
   "cell_type": "code",
   "execution_count": null,
   "metadata": {},
   "outputs": [],
   "source": [
    "# Cleaning and pre-processing\n",
    "df_sept_end = pd.DataFrame(array_sept_end, columns=['station_id','dateTime','trips'])\n",
    "df_sept_end['my_dates'] = pd.to_datetime(df_sept_end['dateTime'],format=\"%Y-%m-%dT%H\")\n",
    "df_sept_end['year'] = df_sept_end['my_dates'].dt.year\n",
    "df_sept_end['day_of_week'] = df_sept_end['my_dates'].dt.day_name()\n",
    "df_sept_end['Hour'] = df_sept_end['my_dates'].dt.hour\n",
    "df_sept_end['type'] = 'end'"
   ]
  },
  {
   "cell_type": "code",
   "execution_count": null,
   "metadata": {},
   "outputs": [],
   "source": [
    "# Join start - end\n",
    "s=df_sept_start[['station_id','my_dates','year','day_of_week','Hour','trips']]\n",
    "e=df_sept_end[['station_id','my_dates','year','day_of_week','Hour','trips']]\n",
    "start_end=pd.merge(s,e,on=['station_id','my_dates','year','day_of_week','Hour'],how='outer',suffixes=['_start','_end'])"
   ]
  },
  {
   "cell_type": "code",
   "execution_count": null,
   "metadata": {},
   "outputs": [],
   "source": [
    "# Join start_end - stations\n",
    "start_end.fillna(0,inplace=True)\n",
    "start_end_stations=pd.merge(start_end,stations,left_on='station_id',right_on='id')\n",
    "start_end_stations.drop(columns='id',inplace=True)\n",
    "start_end_stations.to_csv('september_start_end.csv')"
   ]
  },
  {
   "cell_type": "code",
   "execution_count": null,
   "metadata": {},
   "outputs": [],
   "source": [
    "# Creating long dataframe\n",
    "df_sept=df_sept_start.append(df_sept_end)\n",
    "df_sept.head()"
   ]
  },
  {
   "cell_type": "code",
   "execution_count": null,
   "metadata": {},
   "outputs": [],
   "source": [
    "# Grouped dataframe\n",
    "grouped = df_sept.groupby(['year','station_id','day_of_week','Hour','type'],as_index=False).mean()\n",
    "df_grouped = pd.merge(grouped,stations,left_on='station_id',right_on='id')\n",
    "df_grouped.drop(columns='id',inplace=True)\n",
    "df_grouped.rename(columns={'trips':'avg_trips'},inplace=True)\n",
    "df_grouped.to_csv('september.csv',index=False)"
   ]
  },
  {
   "cell_type": "code",
   "execution_count": null,
   "metadata": {},
   "outputs": [],
   "source": [
    "# Cleaning and saving long dataframe\n",
    "df_sept = pd.DataFrame(array_sept, columns=['station_id','dateTime','trips','avg_duration'])\n",
    "df_sept['my_dates'] = pd.to_datetime(df_sept['dateTime'],format=\"%Y%m%dT%H\")\n",
    "df_sept['year'] = df_sept['my_dates'].dt.year\n",
    "df_sept['day_of_week'] = df_sept['my_dates'].dt.day_name()\n",
    "df_sept['Hour'] = df_sept['my_dates'].dt.hour\n",
    "df_sept_long=pd.merge(df_sept,stations,left_on='station_id',right_on='id')\n",
    "df_sept_long.drop(columns='id',inplace=True)\n",
    "df_sept_long.head()\n",
    "df_sept_long.to_csv('september_long.csv',index=False)"
   ]
  }
 ],
 "metadata": {
  "kernelspec": {
   "display_name": "Python 3",
   "language": "python",
   "name": "python3"
  },
  "language_info": {
   "codemirror_mode": {
    "name": "ipython",
    "version": 3
   },
   "file_extension": ".py",
   "mimetype": "text/x-python",
   "name": "python",
   "nbconvert_exporter": "python",
   "pygments_lexer": "ipython3",
   "version": "3.9.1"
  }
 },
 "nbformat": 4,
 "nbformat_minor": 2
}
